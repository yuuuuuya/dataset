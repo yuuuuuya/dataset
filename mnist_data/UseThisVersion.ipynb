{
 "cells": [
  {
   "cell_type": "code",
   "execution_count": 1,
   "metadata": {
    "collapsed": true
   },
   "outputs": [],
   "source": [
    "import urllib.request\n",
    "import os.path\n",
    "import matplotlib \n",
    "from matplotlib import pyplot as plt\n",
    "%matplotlib inline\n",
    "import gzip\n",
    "import numpy as np\n",
    "import pdb \n",
    "\n",
    "\n",
    "__file__ = 'perseptron/'\n",
    "url_base = 'http://yann.lecun.com/exdb/mnist/'\n",
    "key_file = {\n",
    "    'train_img':'train-images-idx3-ubyte.gz',\n",
    "    'train_label':'train-labels-idx1-ubyte.gz',\n",
    "    'test_img':'t10k-images-idx3-ubyte.gz',\n",
    "    'test_label':'t10k-labels-idx1-ubyte.gz'\n",
    "}\n",
    "dataset_dir = os.path.dirname(os.path.abspath(__file__))\n",
    "\n",
    "def _download(filename):\n",
    "    file_path = dataset_dir + '/' + filename\n",
    "    if os.path.exists(file_path):\n",
    "        return print('already exist')\n",
    "    print('Downloading ' + filename + ' ...')\n",
    "    urllib.request.urlretrieve(url_base + filename, file_path)\n",
    "    print('Done')\n",
    "\n",
    "def download_mnist():\n",
    "    for v in key_file.values():\n",
    "       _download(v)\n",
    "\n",
    "#ALREADDY DOWNLOADED!!!\n",
    "#download_mnist()\n",
    "\n",
    "def load_mnist(filename, dat_size = 784, offset = 16):#dat means 'this'\n",
    "    file_path = dataset_dir + '/' + filename\n",
    "    with gzip.open(file_path, 'rb') as f:\n",
    "        data = np.frombuffer(f.read(), np.uint8, offset= offset)\n",
    "    return data.reshape(-1, dat_size)\n",
    "\n",
    "\n",
    "# For image Download, set offset to be 16, dat_size = 784\n",
    "# For label Download, set offset to be 8, dat_size = 1\n",
    "# img's dat_size is picture size 24*24 = 784\n",
    "# label's data_size is list size (1)\n",
    "# img's offset is 16 bits. because 8*2(=16) bits are required to express 2-dimention.\n",
    "# label's offset is 8 bits. because 8 bits are required to express 1-dimention.\n",
    "\n",
    "def readMNIST(filename): \n",
    "    data = None\n",
    "    if filename == 'train_img':\n",
    "        data = load_mnist(key_file['train_img'], dat_size = 784, offset=16)\n",
    "    elif filename == 'train_label':\n",
    "        data = load_mnist(key_file['train_label'], dat_size = 1, offset =8)\n",
    "    elif filename == 'test_img':\n",
    "        data = load_mnist(key_file['test_img'], dat_size = 784, offset=16)\n",
    "    elif filename == 'test_label':\n",
    "        data = load_mnist(key_file['test_label'], dat_size = 1, offset =8)\n",
    "    else:\n",
    "        raise NotImplementedError\n",
    "    return data"
   ]
  },
  {
   "cell_type": "code",
   "execution_count": 2,
   "metadata": {
    "collapsed": true
   },
   "outputs": [],
   "source": [
    "imgTrain = readMNIST(filename = 'train_img')\n",
    "labTrain = readMNIST(filename = 'train_label')\n",
    "imgTest = readMNIST(filename = 'test_img')\n",
    "labTest = readMNIST(filename = 'test_label')"
   ]
  },
  {
   "cell_type": "code",
   "execution_count": 18,
   "metadata": {},
   "outputs": [
    {
     "name": "stdout",
     "output_type": "stream",
     "text": [
      "[8]\n"
     ]
    },
    {
     "data": {
      "image/png": "[encoded data removed]",
      "text/plain": [
       "<matplotlib.figure.Figure at 0x10841b518>"
      ]
     },
     "metadata": {},
     "output_type": "display_data"
    }
   ],
   "source": [
    "datIndex = 499\n",
    "pic = imgTrain[datIndex].reshape(28, 28)\n",
    "\n",
    "plt.imshow(pic)\n",
    "print(labTrain[datIndex])\n",
    "#print(labTrain[datIndex][0])"
   ]
  },
  {
   "cell_type": "code",
   "execution_count": 15,
   "metadata": {},
   "outputs": [
    {
     "name": "stdout",
     "output_type": "stream",
     "text": [
      "already exist\n",
      "already exist\n",
      "Downloading t10k-images-idx3-ubyte.gz ...\n",
      "Done\n",
      "Downloading t10k-labels-idx1-ubyte.gz ...\n",
      "Done\n"
     ]
    }
   ],
   "source": [
    "download_mnist()"
   ]
  },
  {
   "cell_type": "code",
   "execution_count": 11,
   "metadata": {
    "collapsed": true
   },
   "outputs": [],
   "source": [
    "#https://endoyuta.com/2017/01/12/python-mnistを使う/\n",
    "#http://yann.lecun.com/exdb/mnist/"
   ]
  }
 ],
 "metadata": {
  "kernelspec": {
   "display_name": "Python 3",
   "language": "python",
   "name": "python3"
  },
  "language_info": {
   "codemirror_mode": {
    "name": "ipython",
    "version": 3
   },
   "file_extension": ".py",
   "mimetype": "text/x-python",
   "name": "python",
   "nbconvert_exporter": "python",
   "pygments_lexer": "ipython3",
   "version": "3.6.3"
  }
 },
 "nbformat": 4,
 "nbformat_minor": 2
}
